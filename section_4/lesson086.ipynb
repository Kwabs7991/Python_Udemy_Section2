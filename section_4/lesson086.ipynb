{
 "cells": [
  {
   "cell_type": "code",
   "execution_count": 8,
   "metadata": {},
   "outputs": [
    {
     "data": {
      "text/plain": [
       "30"
      ]
     },
     "execution_count": 8,
     "metadata": {},
     "output_type": "execute_result"
    }
   ],
   "source": [
    "# *args and **kwargs:\n",
    "\n",
    "\n",
    "def super_func(*args, **kwargs):\n",
    "    total = 0\n",
    "    for items in kwargs.values():\n",
    "        total += items\n",
    "    return sum(args) + total\n",
    "\n",
    "super_func(1,2,3,4,5, num1 = 5, num2 = 10)"
   ]
  },
  {
   "cell_type": "code",
   "execution_count": 18,
   "metadata": {},
   "outputs": [
    {
     "name": "stdout",
     "output_type": "stream",
     "text": [
      "10\n",
      "2210\n"
     ]
    }
   ],
   "source": [
    "def highest_even(li):\n",
    "    only_even = []\n",
    "    for item in li:\n",
    "        if item % 2 == 0:\n",
    "            only_even.append(item)\n",
    "    print(max(only_even))\n",
    "\n",
    "highest_even([10,2,3,4,8,11])\n",
    "highest_even([22,3,191,2210,3,4,65,59])"
   ]
  },
  {
   "cell_type": "code",
   "execution_count": null,
   "metadata": {},
   "outputs": [],
   "source": []
  }
 ],
 "metadata": {
  "kernelspec": {
   "display_name": "Python 3",
   "language": "python",
   "name": "python3"
  },
  "language_info": {
   "codemirror_mode": {
    "name": "ipython",
    "version": 3
   },
   "file_extension": ".py",
   "mimetype": "text/x-python",
   "name": "python",
   "nbconvert_exporter": "python",
   "pygments_lexer": "ipython3",
   "version": "3.7.4"
  }
 },
 "nbformat": 4,
 "nbformat_minor": 2
}
