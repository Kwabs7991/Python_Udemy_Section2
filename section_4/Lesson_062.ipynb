{
 "cells": [
  {
   "cell_type": "code",
   "execution_count": 3,
   "metadata": {},
   "outputs": [
    {
     "name": "stdout",
     "output_type": "stream",
     "text": [
      "message allowed\n"
     ]
    }
   ],
   "source": [
    "#TERNARY OPERATORS: evaluates to an expression on whether it is true or not.\n",
    "## Short cut for conditional expressions\n",
    "\n",
    "\n",
    "\n",
    "\n",
    "## THE EXAMPLE STRUCTURE OF TERNARY OPERATORS:\n",
    "## condition_if_true if conditon else condition_if_else\n",
    "## the ternary operator starts from the middle with the condition, then if it is true then it goes left with condition_if_true, otherwise if false, then it goes to the right with condition_if_false.\n",
    "\n",
    "#e.g:\n",
    "\n",
    "is_friend = True\n",
    "\n",
    "can_message = \"message allowed\" if is_friend else \"not allowed\"\n",
    "\n",
    "print(can_message)"
   ]
  },
  {
   "cell_type": "code",
   "execution_count": null,
   "metadata": {},
   "outputs": [],
   "source": []
  }
 ],
 "metadata": {
  "kernelspec": {
   "display_name": "Python 3",
   "language": "python",
   "name": "python3"
  },
  "language_info": {
   "codemirror_mode": {
    "name": "ipython",
    "version": 3
   },
   "file_extension": ".py",
   "mimetype": "text/x-python",
   "name": "python",
   "nbconvert_exporter": "python",
   "pygments_lexer": "ipython3",
   "version": "3.7.4"
  }
 },
 "nbformat": 4,
 "nbformat_minor": 2
}
