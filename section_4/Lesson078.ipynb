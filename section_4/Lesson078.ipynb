{
 "cells": [
  {
   "cell_type": "code",
   "execution_count": 1,
   "metadata": {},
   "outputs": [
    {
     "name": "stdout",
     "output_type": "stream",
     "text": [
      "hellllooo\n",
      "hellllooo\n",
      "hellllooo\n"
     ]
    }
   ],
   "source": [
    "#FUNCTIONS\n",
    "\n",
    "\n",
    "#def = define\n",
    "def say_hello():\n",
    "    print('hellllooo')\n",
    "    \n",
    "say_hello()\n",
    "say_hello()\n",
    "say_hello()"
   ]
  },
  {
   "cell_type": "code",
   "execution_count": 2,
   "metadata": {},
   "outputs": [
    {
     "name": "stdout",
     "output_type": "stream",
     "text": [
      "hellllooo Mike :)\n"
     ]
    }
   ],
   "source": [
    "#Posotional Parameters and Argumets:  are required to be in specified positiion\n",
    "#Parameters are when we define the function\n",
    "#Arguments are when we call/invoke the function below the actual fucntion and its code\n",
    "\n",
    "def say_hello2(name, emoji):\n",
    "    print(f'hellllooo {name} {emoji}')\n",
    "    \n",
    "say_hello2('Mike', ':)')\n",
    "    "
   ]
  },
  {
   "cell_type": "code",
   "execution_count": 5,
   "metadata": {},
   "outputs": [
    {
     "name": "stdout",
     "output_type": "stream",
     "text": [
      "Hi  *Unknown Username*  your password is  *invalid Password* \n",
      "Hi Mike22 your password is Summer21\n"
     ]
    }
   ],
   "source": [
    "#Default Parameters and Keyword Arguments\n",
    "def login_page(username = ' *Unknown Username* ', password = ' *invalid Password* '):\n",
    "    print(f'Hi {username} your password is {password}')\n",
    "    \n",
    "login_page()\n",
    "login_page('Mike22', 'Summer21')"
   ]
  },
  {
   "cell_type": "code",
   "execution_count": 11,
   "metadata": {},
   "outputs": [
    {
     "name": "stdout",
     "output_type": "stream",
     "text": [
      "24\n",
      "19\n"
     ]
    }
   ],
   "source": [
    "def sum(num1, num2):\n",
    "    return num1 + num2\n",
    "\n",
    "print(sum(5,19))\n",
    "\n",
    "total = sum(4,5)\n",
    "print(sum(1,9) + total)"
   ]
  },
  {
   "cell_type": "code",
   "execution_count": 19,
   "metadata": {},
   "outputs": [
    {
     "name": "stdout",
     "output_type": "stream",
     "text": [
      "4.0\n"
     ]
    }
   ],
   "source": [
    "def addd(num1, num2):\n",
    "    def another_func():\n",
    "        return num1 / num2\n",
    "    return another_func()\n",
    "\n",
    "total = addd(20, 5)\n",
    "print(total)"
   ]
  },
  {
   "cell_type": "code",
   "execution_count": 17,
   "metadata": {},
   "outputs": [
    {
     "name": "stdout",
     "output_type": "stream",
     "text": [
      "Hello\n"
     ]
    }
   ],
   "source": [
    "def print_msg(msg):\n",
    "    # This is the outer enclosing function\n",
    "\n",
    "    def printer():\n",
    "        # This is the nested function\n",
    "        print(msg)\n",
    "\n",
    "    printer()\n",
    "\n",
    "# We execute the function\n",
    "# Output: Hello\n",
    "print_msg(\"Hello\")"
   ]
  },
  {
   "cell_type": "code",
   "execution_count": 40,
   "metadata": {},
   "outputs": [
    {
     "name": "stdout",
     "output_type": "stream",
     "text": [
      "10\n"
     ]
    }
   ],
   "source": [
    "def calculator(num):\n",
    "    def addition():\n",
    "        return num + 5\n",
    "    return addition()   \n",
    "              \n",
    "print(calculator(5))"
   ]
  },
  {
   "cell_type": "code",
   "execution_count": 2,
   "metadata": {},
   "outputs": [
    {
     "name": "stdout",
     "output_type": "stream",
     "text": [
      "Powering On. Enjoy the ride!\n"
     ]
    }
   ],
   "source": [
    "#EXERCISE:\n",
    "\n",
    "def checkDriverAge(age = 0):\n",
    "    \n",
    "    if int(age) < 18:\n",
    "        print(\"Sorry, you are too young to drive this car. Powering off\")\n",
    "    elif int(age) > 18:\n",
    "        print(\"Powering On. Enjoy the ride!\");\n",
    "    elif int(age) == 18:\n",
    "        print(\"Congratulations on your first year of driving. Enjoy the ride!\")\n",
    "        \n",
    "checkDriverAge(23)"
   ]
  },
  {
   "cell_type": "code",
   "execution_count": 3,
   "metadata": {},
   "outputs": [
    {
     "name": "stdout",
     "output_type": "stream",
     "text": [
      "True\n"
     ]
    }
   ],
   "source": [
    "#clean code:\n",
    "\n",
    "def is_even(num):\n",
    "    '''\n",
    "    Function Info: this returns true or false stating \n",
    "    whether a number is even or not.\n",
    "    '''\n",
    "    return num % 2 == 0\n",
    "\n",
    "print(is_even(44))"
   ]
  },
  {
   "cell_type": "code",
   "execution_count": 2,
   "metadata": {},
   "outputs": [
    {
     "name": "stdout",
     "output_type": "stream",
     "text": [
      "False\n"
     ]
    }
   ],
   "source": [
    "print(is_even(95))"
   ]
  },
  {
   "cell_type": "code",
   "execution_count": 4,
   "metadata": {},
   "outputs": [
    {
     "name": "stdout",
     "output_type": "stream",
     "text": [
      "\n",
      "    Function Info: this returns true or false stating \n",
      "    whether a number is even or not.\n",
      "    \n"
     ]
    }
   ],
   "source": [
    "print(is_even.__doc__)  #prints out docstring info"
   ]
  },
  {
   "cell_type": "code",
   "execution_count": null,
   "metadata": {},
   "outputs": [],
   "source": []
  }
 ],
 "metadata": {
  "kernelspec": {
   "display_name": "Python 3",
   "language": "python",
   "name": "python3"
  },
  "language_info": {
   "codemirror_mode": {
    "name": "ipython",
    "version": 3
   },
   "file_extension": ".py",
   "mimetype": "text/x-python",
   "name": "python",
   "nbconvert_exporter": "python",
   "pygments_lexer": "ipython3",
   "version": "3.7.4"
  }
 },
 "nbformat": 4,
 "nbformat_minor": 2
}
