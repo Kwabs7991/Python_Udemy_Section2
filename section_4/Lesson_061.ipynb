{
 "cells": [
  {
   "cell_type": "code",
   "execution_count": 2,
   "metadata": {},
   "outputs": [
    {
     "name": "stdout",
     "output_type": "stream",
     "text": [
      "Wrong username and/or Password\n",
      "okokok\n"
     ]
    }
   ],
   "source": [
    "# To simply check if values have been entered and held in the variable, if so it would be Truthy, we can have a conditional\n",
    "# that says as long as a value has been entered then accept as TRUE.\n",
    "\n",
    "password = \"123\"\n",
    "username = \"\"\n",
    "\n",
    "if password and username:\n",
    "    print(\"You have been signed\")\n",
    "else:\n",
    "    print(\"Wrong username and/or Password\")\n",
    "    \n",
    "    print('okokok')\n",
    "\n"
   ]
  },
  {
   "cell_type": "code",
   "execution_count": null,
   "metadata": {},
   "outputs": [],
   "source": []
  }
 ],
 "metadata": {
  "kernelspec": {
   "display_name": "Python 3",
   "language": "python",
   "name": "python3"
  },
  "language_info": {
   "codemirror_mode": {
    "name": "ipython",
    "version": 3
   },
   "file_extension": ".py",
   "mimetype": "text/x-python",
   "name": "python",
   "nbconvert_exporter": "python",
   "pygments_lexer": "ipython3",
   "version": "3.7.4"
  }
 },
 "nbformat": 4,
 "nbformat_minor": 2
}
