{
 "cells": [
  {
   "cell_type": "code",
   "execution_count": 1,
   "metadata": {},
   "outputs": [
    {
     "name": "stdout",
     "output_type": "stream",
     "text": [
      "0\n",
      "1\n",
      "2\n",
      "3\n",
      "4\n",
      "5\n",
      "6\n",
      "7\n",
      "8\n",
      "9\n",
      "10\n",
      "11\n",
      "12\n",
      "13\n",
      "14\n",
      "15\n",
      "16\n",
      "17\n",
      "18\n",
      "19\n",
      "20\n",
      "21\n",
      "22\n",
      "23\n",
      "24\n",
      "25\n",
      "26\n",
      "27\n",
      "28\n",
      "29\n",
      "30\n",
      "31\n",
      "32\n",
      "33\n",
      "34\n",
      "35\n",
      "36\n",
      "37\n",
      "38\n",
      "39\n",
      "40\n",
      "41\n",
      "42\n",
      "43\n",
      "44\n",
      "45\n",
      "46\n",
      "47\n",
      "48\n",
      "49\n",
      "All Done\n"
     ]
    }
   ],
   "source": [
    "#WHILE LOOP:\n",
    "\n",
    "#while condition:\n",
    "#    do ....\n",
    "\n",
    "i=0\n",
    "while i < 50 :\n",
    "    print(i)\n",
    "    i += 1\n",
    "else:\n",
    "    print('All Done')"
   ]
  },
  {
   "cell_type": "code",
   "execution_count": null,
   "metadata": {},
   "outputs": [],
   "source": [
    "while True:\n",
    "    input('say something: ')\n",
    "    break"
   ]
  },
  {
   "cell_type": "code",
   "execution_count": 1,
   "metadata": {},
   "outputs": [
    {
     "name": "stdout",
     "output_type": "stream",
     "text": [
      "will not exit until you say bye\n",
      "say something: hiya\n",
      "Again... say something: hiyaaa\n",
      "will not exit until you say bye\n",
      "say something: bye\n"
     ]
    }
   ],
   "source": [
    "while True:\n",
    "    print('will not exit until you say bye')\n",
    "    response = input('say something: ')\n",
    "    if (response == 'bye'):\n",
    "        break\n",
    "    else:\n",
    "        response = input('Again... say something: ')"
   ]
  },
  {
   "cell_type": "code",
   "execution_count": 2,
   "metadata": {},
   "outputs": [
    {
     "name": "stdout",
     "output_type": "stream",
     "text": [
      "will not exit until you say bye\n",
      "say something: hgi\n",
      "will not exit until you say bye\n",
      "say something: hiu\n",
      "will not exit until you say bye\n",
      "say something: hi\n",
      "will not exit until you say bye\n",
      "say something: hi\n",
      "will not exit until you say bye\n",
      "say something: bye\n"
     ]
    }
   ],
   "source": [
    " while True:\n",
    "    print('will not exit until you say bye')\n",
    "    response = input('say something: ')\n",
    "    if (response == 'bye'):\n",
    "        break\n",
    "    else:\n",
    "        continue"
   ]
  },
  {
   "cell_type": "code",
   "execution_count": 72,
   "metadata": {},
   "outputs": [
    {
     "name": "stdout",
     "output_type": "stream",
     "text": [
      "   *   \n",
      "  ***  \n",
      " ***** \n",
      "*******\n",
      "   *   \n",
      "   *   \n"
     ]
    }
   ],
   "source": [
    "#Exercise:\n",
    "\n",
    "picture = [\n",
    "    [0,0,0,1,0,0,0],\n",
    "    [0,0,1,1,1,0,0],\n",
    "    [0,1,1,1,1,1,0],\n",
    "    [1,1,1,1,1,1,1],\n",
    "    [0,0,0,1,0,0,0],\n",
    "    [0,0,0,1,0,0,0]\n",
    "]\n",
    "\n",
    "\n",
    "for k in picture:\n",
    "    for j in k:\n",
    "        if j == 1:\n",
    "            print('*',end = '')\n",
    "        else:\n",
    "            print(' ', end = '')\n",
    "    print('')"
   ]
  },
  {
   "cell_type": "code",
   "execution_count": 73,
   "metadata": {},
   "outputs": [
    {
     "name": "stdout",
     "output_type": "stream",
     "text": [
      "6\n",
      "7\n"
     ]
    }
   ],
   "source": [
    "print(len(picture))\n",
    "print(len(picture[1]))"
   ]
  },
  {
   "cell_type": "code",
   "execution_count": 47,
   "metadata": {},
   "outputs": [
    {
     "name": "stdout",
     "output_type": "stream",
     "text": [
      "{'b', 'n'}\n"
     ]
    }
   ],
   "source": [
    "#Exercise 2:\n",
    "    \n",
    "some_list = ['a', 'b', 'c','b', 'd', 'm', 'n', 'n']\n",
    "duplicates = []\n",
    "\n",
    "for i in some_list:\n",
    "    if some_list.count(i) >  1:\n",
    "            duplicates.append(i) \n",
    "print(set(duplicates))"
   ]
  },
  {
   "cell_type": "code",
   "execution_count": null,
   "metadata": {},
   "outputs": [],
   "source": []
  },
  {
   "cell_type": "code",
   "execution_count": null,
   "metadata": {},
   "outputs": [],
   "source": []
  }
 ],
 "metadata": {
  "kernelspec": {
   "display_name": "Python 3",
   "language": "python",
   "name": "python3"
  },
  "language_info": {
   "codemirror_mode": {
    "name": "ipython",
    "version": 3
   },
   "file_extension": ".py",
   "mimetype": "text/x-python",
   "name": "python",
   "nbconvert_exporter": "python",
   "pygments_lexer": "ipython3",
   "version": "3.7.4"
  }
 },
 "nbformat": 4,
 "nbformat_minor": 2
}
