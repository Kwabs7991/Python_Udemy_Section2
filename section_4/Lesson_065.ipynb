{
 "cells": [
  {
   "cell_type": "code",
   "execution_count": 20,
   "metadata": {},
   "outputs": [
    {
     "name": "stdout",
     "output_type": "stream",
     "text": [
      "You are a master magician.\n"
     ]
    }
   ],
   "source": [
    "is_magician = True\n",
    "is_expert = True\n",
    "\n",
    "\n",
    "if is_magician and is_expert:  # Check if magician AND expert: \"You are a master magician.\"\n",
    "    print(\"You are a master magician.\")\n",
    "elif is_magician and not is_expert:  # Check if magician but NOT expert: \"At least you're getting there.\"\n",
    "    print(\"At least you're getting there.\")\n",
    "elif not is_magician: # If you're not a magician: \"You need magic powers.\"\n",
    "    print(\"You need magic powers\") \n",
    "    \n",
    "#Ternary Operator example for last section:\n",
    "# If you're not a magician: \"You need magic powers.\"\n",
    "## \"Is a magician\" if is_magician else \"You need magic powers\""
   ]
  },
  {
   "cell_type": "code",
   "execution_count": null,
   "metadata": {},
   "outputs": [],
   "source": []
  }
 ],
 "metadata": {
  "kernelspec": {
   "display_name": "Python 3",
   "language": "python",
   "name": "python3"
  },
  "language_info": {
   "codemirror_mode": {
    "name": "ipython",
    "version": 3
   },
   "file_extension": ".py",
   "mimetype": "text/x-python",
   "name": "python",
   "nbconvert_exporter": "python",
   "pygments_lexer": "ipython3",
   "version": "3.7.4"
  }
 },
 "nbformat": 4,
 "nbformat_minor": 2
}
