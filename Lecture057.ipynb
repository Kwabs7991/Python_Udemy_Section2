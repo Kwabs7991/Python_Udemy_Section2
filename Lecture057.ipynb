{
 "cells": [
  {
   "cell_type": "code",
   "execution_count": null,
   "metadata": {},
   "outputs": [],
   "source": [
    "#SETS:\n",
    "\n",
    "#remove hashtag to uncomment code and run to see what it does:"
   ]
  },
  {
   "cell_type": "code",
   "execution_count": 46,
   "metadata": {},
   "outputs": [],
   "source": [
    "my_set = {1,2,3,4,5}\n",
    "small_set = {2,3,4}\n",
    "your_set = {4,5,6,7,8,9,10}\n",
    "\n",
    "\n",
    "#.difference() - finds the difference between to sets but does not modify the original set.\n",
    "# print(my_set.difference(your_set))"
   ]
  },
  {
   "cell_type": "code",
   "execution_count": 47,
   "metadata": {},
   "outputs": [],
   "source": [
    "#.discard() - modifies the set by discaarding the value given as argument\n",
    "\n",
    "#print(my_set.discard(2))\n",
    "# print(my_set)"
   ]
  },
  {
   "cell_type": "code",
   "execution_count": 48,
   "metadata": {},
   "outputs": [],
   "source": [
    "# .difference_update() - removes all differences found and modifies the original set\n",
    "\n",
    "# print(my_set.difference_update(your_set))\n",
    "# print(my_set)"
   ]
  },
  {
   "cell_type": "code",
   "execution_count": 49,
   "metadata": {},
   "outputs": [
    {
     "name": "stdout",
     "output_type": "stream",
     "text": [
      "{4, 5}\n",
      "{4, 5}\n"
     ]
    }
   ],
   "source": [
    "# .intersection()\n",
    "\n",
    "print(my_set.intersection(your_set))\n",
    "\n",
    "##Can also be written as:::\n",
    "\n",
    "print(my_set & your_set)"
   ]
  },
  {
   "cell_type": "code",
   "execution_count": 50,
   "metadata": {},
   "outputs": [
    {
     "name": "stdout",
     "output_type": "stream",
     "text": [
      "False\n"
     ]
    }
   ],
   "source": [
    "# .isdisjoint() - do they not overlap do, is it the case that they do not overlap in terms of values.\n",
    "# Essentially, are the two circles disjointed and not connected/overlapping/touching if it were a venn diagram.\n",
    "\n",
    "print(my_set.isdisjoint(your_set))\n"
   ]
  },
  {
   "cell_type": "code",
   "execution_count": 56,
   "metadata": {},
   "outputs": [
    {
     "name": "stdout",
     "output_type": "stream",
     "text": [
      "False\n",
      "True\n"
     ]
    }
   ],
   "source": [
    "# .issubset() - is \"my_Set\" a subset of your_set, essentially is the first set found to be within the other set in terms of values\n",
    "\n",
    "print(my_set.issubset(your_set))\n",
    "print(small_set.issubset(my_set))"
   ]
  },
  {
   "cell_type": "code",
   "execution_count": 60,
   "metadata": {},
   "outputs": [
    {
     "name": "stdout",
     "output_type": "stream",
     "text": [
      "False\n",
      "True\n"
     ]
    }
   ],
   "source": [
    "# . issuperset() does the initial set encompass/engulf/hold the other set given as argument\n",
    "\n",
    "print(my_set.issuperset(your_set))\n",
    "print(my_set.issuperset(small_set))\n"
   ]
  },
  {
   "cell_type": "code",
   "execution_count": 53,
   "metadata": {},
   "outputs": [
    {
     "name": "stdout",
     "output_type": "stream",
     "text": [
      "{1, 2, 3, 4, 5, 6, 7, 8, 9, 10}\n",
      "{1, 2, 3, 4, 5, 6, 7, 8, 9, 10}\n"
     ]
    }
   ],
   "source": [
    "# .union() - unites both sets but removes any duplicates that could be found, and creates a new set.\n",
    "print( my_set.union(your_set))\n",
    "\n",
    "##Can also be written as:::\n",
    "\n",
    "print(my_set | your_set)\n"
   ]
  },
  {
   "cell_type": "code",
   "execution_count": null,
   "metadata": {},
   "outputs": [],
   "source": []
  }
 ],
 "metadata": {
  "kernelspec": {
   "display_name": "Python 3",
   "language": "python",
   "name": "python3"
  },
  "language_info": {
   "codemirror_mode": {
    "name": "ipython",
    "version": 3
   },
   "file_extension": ".py",
   "mimetype": "text/x-python",
   "name": "python",
   "nbconvert_exporter": "python",
   "pygments_lexer": "ipython3",
   "version": "3.7.4"
  }
 },
 "nbformat": 4,
 "nbformat_minor": 2
}
