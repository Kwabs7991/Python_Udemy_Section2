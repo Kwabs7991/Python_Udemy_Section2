{
 "cells": [
  {
   "cell_type": "code",
   "execution_count": 3,
   "metadata": {},
   "outputs": [
    {
     "name": "stdout",
     "output_type": "stream",
     "text": [
      "True\n",
      "False\n"
     ]
    }
   ],
   "source": [
    "#TUPLES:\n",
    "\n",
    "#https://railsware.com/blog/python-for-machine-learning-indexing-and-slicing-for-lists-tuples-strings-and-other-sequential-types/\n",
    "### WHAT IS A TUPLE?\n",
    "#Tuples can be thought of as IMMUTABLE LISTS.\n",
    "\n",
    "#When would you want to use a tuple:\n",
    "## -- to keep a list in one specific order.\n",
    "## -- keeping geographic location and coordinates for uber for e.g., which you wouldnt want changed.\n",
    "\n",
    "my_tuple = (1,2,3,4,5) #once oyu make a tuple, you cant sort or reverse it, etc. like we did with lists. But you can access it and try to find values in it.\n",
    "print(5 in my_tuple)\n",
    "print(25 in my_tuple)"
   ]
  },
  {
   "cell_type": "code",
   "execution_count": 8,
   "metadata": {},
   "outputs": [
    {
     "name": "stdout",
     "output_type": "stream",
     "text": [
      "['a', 'b', 'c']\n"
     ]
    }
   ],
   "source": [
    "#you can have tuples as keys in a dictionary\n",
    "#inside of the dictionary, if you print out the items, the key-value items will be returned as Tuples.\n",
    "#A dicionary as mentioned as before can have tuples as keys in a dictioanry, meaning you can have immutable objects as keys in a dicitonary.\n",
    "\n",
    "\n",
    "\n",
    "user = {\n",
    "    'basket':[1,2,3],\n",
    "    'greet': 'hello',\n",
    "    'age': 20,\n",
    "    (1,2): ['a' ,'b' ,'c']\n",
    "}\n",
    "\n",
    "user.items()\n",
    "print(user[(1,2)])"
   ]
  },
  {
   "cell_type": "code",
   "execution_count": 9,
   "metadata": {},
   "outputs": [
    {
     "name": "stdout",
     "output_type": "stream",
     "text": [
      "(2,)\n"
     ]
    }
   ],
   "source": [
    "new_tuple = my_tuple[1:2]\n",
    "print(new_tuple) \n",
    "\n",
    "# why do we get 2,?\n",
    "# a tuple that is just a single item, will have the comma at the end, but should still be seen as tuple"
   ]
  },
  {
   "cell_type": "code",
   "execution_count": null,
   "metadata": {},
   "outputs": [],
   "source": [
    "#"
   ]
  },
  {
   "cell_type": "code",
   "execution_count": 10,
   "metadata": {},
   "outputs": [
    {
     "name": "stdout",
     "output_type": "stream",
     "text": [
      "1\n",
      "2\n",
      "3\n",
      "[4, 5]\n"
     ]
    }
   ],
   "source": [
    "#Tuples only have two (2) methods:\n",
    "# Count()\n",
    "# index()\n",
    "\n",
    "x, y, z, *other = (1,2,3,4,5,5)\n",
    "\n",
    "print(x)\n",
    "print(y)\n",
    "print(z)\n",
    "print(other)\n"
   ]
  },
  {
   "cell_type": "code",
   "execution_count": 14,
   "metadata": {},
   "outputs": [
    {
     "name": "stdout",
     "output_type": "stream",
     "text": [
      "1\n"
     ]
    }
   ],
   "source": [
    "print(my_tuple.count(2)) # count how many of ... there is."
   ]
  },
  {
   "cell_type": "code",
   "execution_count": 36,
   "metadata": {},
   "outputs": [
    {
     "name": "stdout",
     "output_type": "stream",
     "text": [
      "pears\n",
      "Raspberries\n",
      "('pears', 'Rose', 'Oranges')\n",
      "('Oranges', 'Kiwi', 'Raspberries')\n",
      "('apple', 'pears', 'Rose', 'Oranges')\n",
      "('Rose', 'Oranges', 'Kiwi')\n"
     ]
    }
   ],
   "source": [
    "#Accessing Tuples:\n",
    "\n",
    "this_tuple = ('apple', 'pears', 'Rose', 'Oranges', 'Kiwi', 'Raspberries')\n",
    "\n",
    "print(this_tuple[1])\n",
    "\n",
    "print(this_tuple[-1])\n",
    "\n",
    "print(this_tuple[1:4]) # The search will start at index 2 (included) and end at index 5 (not included).\n",
    "\n",
    "print(this_tuple[3:]) # By leaving out the start value, the range will start at the first item in the tuple.\n",
    "\n",
    "print(this_tuple[:4]) # By leaving out the end value, the range will go on to the end of the tuple.\n",
    "\n",
    "\n",
    "\n",
    "\n",
    "#Negative indexing means starting from the end of the tuple.\n",
    "\n",
    "#This example returns the items from index -4 (included) to index -1 (excluded)\n",
    "\n",
    "#Remember that the last item has the index -1,\n",
    "\n",
    "print(this_tuple[-4:-1])"
   ]
  },
  {
   "cell_type": "code",
   "execution_count": 27,
   "metadata": {},
   "outputs": [
    {
     "name": "stdout",
     "output_type": "stream",
     "text": [
      "3\n"
     ]
    }
   ],
   "source": [
    "print(this_tuple.index('Oranges'))"
   ]
  },
  {
   "cell_type": "code",
   "execution_count": 35,
   "metadata": {},
   "outputs": [
    {
     "name": "stdout",
     "output_type": "stream",
     "text": [
      "('apple', 'pears', 'Rose')\n"
     ]
    }
   ],
   "source": [
    "print(this_tuple[0:3])"
   ]
  },
  {
   "cell_type": "code",
   "execution_count": 37,
   "metadata": {},
   "outputs": [
    {
     "name": "stdout",
     "output_type": "stream",
     "text": [
      "6\n"
     ]
    }
   ],
   "source": [
    "# print the no. of items in a tuple:\n",
    "\n",
    "print(len(this_tuple))"
   ]
  },
  {
   "cell_type": "code",
   "execution_count": 42,
   "metadata": {},
   "outputs": [
    {
     "name": "stdout",
     "output_type": "stream",
     "text": [
      "6\n",
      "('orange', 'kiwi', 'melon')\n"
     ]
    }
   ],
   "source": [
    "fruits = (\"apple\", \"banana\", \"cherry\", \"orange\", \"kiwi\", \"melon\", \"mango\")\n",
    "print(len(this_tuple))\n",
    "print(fruits[-4:-1])"
   ]
  },
  {
   "cell_type": "code",
   "execution_count": null,
   "metadata": {},
   "outputs": [],
   "source": []
  }
 ],
 "metadata": {
  "kernelspec": {
   "display_name": "Python 3",
   "language": "python",
   "name": "python3"
  },
  "language_info": {
   "codemirror_mode": {
    "name": "ipython",
    "version": 3
   },
   "file_extension": ".py",
   "mimetype": "text/x-python",
   "name": "python",
   "nbconvert_exporter": "python",
   "pygments_lexer": "ipython3",
   "version": "3.7.4"
  }
 },
 "nbformat": 4,
 "nbformat_minor": 2
}
