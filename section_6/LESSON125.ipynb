{
 "cells": [
  {
   "cell_type": "code",
   "execution_count": 21,
   "metadata": {},
   "outputs": [
    {
     "name": "stdout",
     "output_type": "stream",
     "text": [
      "logged in\n",
      "logged in\n",
      "attacking with power of 50\n",
      "attacking with power of 30: arrows left - 30\n",
      "\n",
      "\n",
      "attacking with power of 60\n",
      "remaining arrows - 50\n",
      "logged in\n"
     ]
    }
   ],
   "source": [
    "#INHERITANCE\n",
    "# ...AND MULTIPLE INHERITANCE\n",
    "\n",
    "class User(object):\n",
    "#     def __init__(self, email ):\n",
    "#         self.email = email\n",
    "        \n",
    "    def sign_in(self):\n",
    "        print('logged in')\n",
    "\n",
    "class Wizard(User):\n",
    "    #def __init__(self, name, power, email):\n",
    "    def __init__(self, name, power):\n",
    "        #super().__init__(email)  #Through using super, we no lionger have to worry about using the class name and 'self' to refer to the method in the class above (User)\n",
    "        self.name = name\n",
    "        self.power = power\n",
    "        \n",
    "    def attack(self):\n",
    "        print(f'attacking with power of {self.power}')\n",
    "        \n",
    "class Archer(User):\n",
    "    def __init__(self, name, no_arrows):\n",
    "        self.name = name\n",
    "        self.no_arrows = no_arrows\n",
    "        \n",
    "    def attack(self):\n",
    "        print(f'attacking with power of {self.no_arrows}: arrows left - {self.no_arrows}')\n",
    "        \n",
    "    def check_arrows(self):\n",
    "        print(f'remaining arrows - {self.no_arrows}')\n",
    "\n",
    "class HybridBorg(Wizard, Archer):\n",
    "    def __init__(self,name, power, no_arrows):\n",
    "        #Wizard.__init__(self, name, power, email)\n",
    "        Wizard.__init__(self, name, power)\n",
    "        Archer. __init__(self, name, no_arrows)\n",
    "        \n",
    "#Wizard1 = Wizard('Merlin', 50, 'tabi632@gmail.com')\n",
    "Archer1 = Archer('Robin', 30)\n",
    "Hyb1 = HybridBorg('Robot', 60, 50)\n",
    "\n",
    "Wizard1.sign_in()\n",
    "Archer1.sign_in()\n",
    "\n",
    "Wizard1.attack()\n",
    "Archer1.attack()\n",
    "\n",
    "#Wizard1.email\n",
    "\n",
    "print('\\n')\n",
    "Hyb1.attack()\n",
    "Hyb1.check_arrows()\n",
    "Hyb1.sign_in()"
   ]
  },
  {
   "cell_type": "code",
   "execution_count": 14,
   "metadata": {},
   "outputs": [
    {
     "name": "stdout",
     "output_type": "stream",
     "text": [
      "True\n",
      "True\n"
     ]
    }
   ],
   "source": [
    "# isinstance(instance, class) -  this ius to check if an object is an instance of a class.\n",
    "## For example:\n",
    "\n",
    "\n",
    "# In the below cases the object wizard1 IS an instance of both the User class and the Wizard class:-\n",
    "print(isinstance(Wizard1, Wizard))\n",
    "print(isinstance(Wizard1, User))"
   ]
  },
  {
   "cell_type": "code",
   "execution_count": 21,
   "metadata": {},
   "outputs": [
    {
     "name": "stdout",
     "output_type": "stream",
     "text": [
      "['__class__', '__delattr__', '__dict__', '__dir__', '__doc__', '__eq__', '__format__', '__ge__', '__getattribute__', '__gt__', '__hash__', '__init__', '__init_subclass__', '__le__', '__lt__', '__module__', '__ne__', '__new__', '__reduce__', '__reduce_ex__', '__repr__', '__setattr__', '__sizeof__', '__str__', '__subclasshook__', '__weakref__', 'attack', 'email', 'name', 'power', 'sign_in']\n"
     ]
    }
   ],
   "source": [
    "# introspection - The ability to determine the type of an object at runtime.\n",
    "print(dir(Wizard1))"
   ]
  },
  {
   "cell_type": "code",
   "execution_count": null,
   "metadata": {},
   "outputs": [],
   "source": [
    "#Dunder Methods:"
   ]
  }
 ],
 "metadata": {
  "kernelspec": {
   "display_name": "Python 3",
   "language": "python",
   "name": "python3"
  },
  "language_info": {
   "codemirror_mode": {
    "name": "ipython",
    "version": 3
   },
   "file_extension": ".py",
   "mimetype": "text/x-python",
   "name": "python",
   "nbconvert_exporter": "python",
   "pygments_lexer": "ipython3",
   "version": "3.7.4"
  }
 },
 "nbformat": 4,
 "nbformat_minor": 2
}
