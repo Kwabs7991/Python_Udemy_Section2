{
 "cells": [
  {
   "cell_type": "code",
   "execution_count": 25,
   "metadata": {},
   "outputs": [
    {
     "name": "stdout",
     "output_type": "stream",
     "text": [
      "Mike\n",
      "23\n",
      "run\n",
      "None\n",
      "True\n",
      "\n",
      "\n",
      "Tom\n",
      "22\n",
      "my name is Tom\n",
      "None\n"
     ]
    }
   ],
   "source": [
    "#Creating our own objects:\n",
    "\n",
    "#OOP\n",
    "\n",
    "class PlayerCharac:\n",
    "    \n",
    "    membership = True   #Class-Object Attribute (what I call C.O.A)\n",
    "    \n",
    "    def __init__(self, name = 'anonymous', age = 0):  #Gets called everytime we instantiate an object\n",
    "        self._name = name #Class Attrubute (What i call a C.A)\n",
    "        self._age = age   #Class Attrubute (What i call a C.A)\n",
    "        \n",
    "    def run(self, hello):\n",
    "        print('run')\n",
    "        \n",
    "    def shout(self):\n",
    "        print(f'my name is {self._name}')\n",
    "        \n",
    "player1 = PlayerCharac('Mike', 23)\n",
    "player2 = PlayerCharac('Tom', 22)\n",
    "\n",
    "print(player1._name)\n",
    "print(player1._age)\n",
    "print(player1.run('hello'))\n",
    "print(player1.membership)\n",
    "\n",
    "print('\\n')\n",
    "\n",
    "print(player2._name)\n",
    "print(player2._age)\n",
    "print(player2.shout())\n",
    "        "
   ]
  },
  {
   "cell_type": "code",
   "execution_count": 26,
   "metadata": {},
   "outputs": [
    {
     "name": "stdout",
     "output_type": "stream",
     "text": [
      "The oldest cat is 5 years old.\n"
     ]
    }
   ],
   "source": [
    "class Cat:\n",
    "    species = 'mammal'\n",
    "    def __init__(self, name, age):\n",
    "        self.name = name\n",
    "        self.age = age\n",
    "\n",
    "\n",
    "# Instantiate the Cat object with 3 cats\n",
    "peanut = Cat(\"Peanut\", 3)\n",
    "garfield = Cat(\"Garfield\", 5)\n",
    "snickers = Cat(\"Snickers\", 1)\n",
    "\n",
    "\n",
    "# Find the oldest cat\n",
    "def get_oldest_cat(*args):\n",
    "    return max(args)\n",
    "\n",
    "\n",
    "# Output\n",
    "print(f\"The oldest cat is {get_oldest_cat(peanut.age, garfield.age, snickers.age)} years old.\")"
   ]
  },
  {
   "cell_type": "code",
   "execution_count": 89,
   "metadata": {},
   "outputs": [
    {
     "name": "stdout",
     "output_type": "stream",
     "text": [
      "\n",
      "\n",
      "Mike Tabi - Mike.Tabi@gmail.com\n",
      "Tubias Tabi - Tubias.Tabi@gmail.com\n",
      "5\n",
      "\n",
      "\n",
      "Tubias Tabi\n",
      "Tubias Tabi, pay grade:- 5, pay amount:- 700000\n",
      "\n",
      "\n",
      "Tubias Tabi - Tubias.Tabi@gmail.com\n",
      "0x19f1edb5208\n",
      "\n",
      "\n",
      "1400000\n",
      "9\n"
     ]
    }
   ],
   "source": [
    "#dunder method part 2\n",
    "\n",
    "class Employee:\n",
    "    \n",
    "    raise_amt = 1.04\n",
    "    \n",
    "    def __init__(self, first_n, last_n, pay_g, pay_amount):\n",
    "        \n",
    "        self.first_n = first_n \n",
    "        self.last_n = last_n \n",
    "        self.pay_g = pay_g \n",
    "        self.pay_amount = pay_amount\n",
    "        self.email = first_n + '.' + last_n + '@' + 'gmail.com'\n",
    "        \n",
    "    def fullname(self):\n",
    "        return '{} {}'.format(self.first_n, self.last_n)\n",
    "    \n",
    "    def get_a_raise(self, pay_g, pay_amount):\n",
    "        self.pay_g = self.pay_g * self.raise_amt\n",
    "        \n",
    "    def __str__(self):\n",
    "        return \"{} - {}\".format(self.fullname(), self.email)\n",
    "    \n",
    "    def __repr__(self):\n",
    "        return \"{} {}, pay grade:- {}, pay amount:- {}\".format(self.first_n, self.last_n, self.pay_g, self.pay_amount)\n",
    "    \n",
    "    def __add__(self, other):\n",
    "        return  self.pay_amount + other.pay_amount\n",
    "    \n",
    "    def __len__(self):\n",
    "        return len(self.fullname())\n",
    "    \n",
    "    \n",
    "emp_1 = Employee('Mike', 'Tabi', 5, 700000)\n",
    "emp_2 = Employee('Tubias', 'Tabi', 5, 700000)\n",
    "emp_3 = Employee('Linquah', 'Tabi', 5, 10000)\n",
    "\n",
    "print('\\n')\n",
    "print(str(emp_1))\n",
    "print(str(emp_2))\n",
    "print(str(5))\n",
    "\n",
    "print('\\n')\n",
    "print(emp_2.fullname())\n",
    "print(repr(emp_2))\n",
    "\n",
    "print('\\n')\n",
    "print(emp_2)\n",
    "print(hex(id(emp_2)))\n",
    "\n",
    "\n",
    "print('\\n')\n",
    "print(emp_1 + emp_2)\n",
    "print(len(emp_1))"
   ]
  },
  {
   "cell_type": "code",
   "execution_count": 113,
   "metadata": {},
   "outputs": [
    {
     "name": "stdout",
     "output_type": "stream",
     "text": [
      "1000\n",
      "5\n"
     ]
    }
   ],
   "source": [
    "#Exercise:\n",
    "\n",
    "class Superlist(list): #inherit the class list to use its fucntionalities or methods , whichever way you wanna call it.\n",
    "    \n",
    "    def __len__(self):\n",
    "        return 1000\n",
    "    \n",
    "super_list1 = Superlist()\n",
    "\n",
    "print(len(super_list1))\n",
    "super_list1.append(5)\n",
    "print(super_list1[0])"
   ]
  },
  {
   "cell_type": "markdown",
   "metadata": {},
   "source": [
    "##### "
   ]
  }
 ],
 "metadata": {
  "kernelspec": {
   "display_name": "Python 3",
   "language": "python",
   "name": "python3"
  },
  "language_info": {
   "codemirror_mode": {
    "name": "ipython",
    "version": 3
   },
   "file_extension": ".py",
   "mimetype": "text/x-python",
   "name": "python",
   "nbconvert_exporter": "python",
   "pygments_lexer": "ipython3",
   "version": "3.7.4"
  }
 },
 "nbformat": 4,
 "nbformat_minor": 2
}
