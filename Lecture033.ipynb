{
 "cells": [
  {
   "cell_type": "code",
   "execution_count": 20,
   "metadata": {},
   "outputs": [
    {
     "name": "stdout",
     "output_type": "stream",
     "text": [
      "1\n"
     ]
    }
   ],
   "source": [
    "#String Indexes: \n",
    " \n",
    "    \n",
    "selfish = '12345678'\n",
    "#selfish[start:stop:stepover]\n",
    "\n",
    "\n",
    "\n",
    "print(selfish[0])# what this is saying, is print the fist index of whatever ois held in variable selfish"
   ]
  },
  {
   "cell_type": "code",
   "execution_count": 21,
   "metadata": {},
   "outputs": [
    {
     "name": "stdout",
     "output_type": "stream",
     "text": [
      "7\n"
     ]
    }
   ],
   "source": [
    "print(selfish[6])"
   ]
  },
  {
   "cell_type": "code",
   "execution_count": 22,
   "metadata": {},
   "outputs": [
    {
     "name": "stdout",
     "output_type": "stream",
     "text": [
      "<class 'str'>\n"
     ]
    }
   ],
   "source": [
    "print(type(selfish))"
   ]
  },
  {
   "cell_type": "code",
   "execution_count": 23,
   "metadata": {},
   "outputs": [
    {
     "name": "stdout",
     "output_type": "stream",
     "text": [
      "2\n",
      "2345678\n",
      "2345\n",
      "246\n"
     ]
    }
   ],
   "source": [
    "# When using square brackets [] in Python, the first item we put in the brackets is the START [START], \n",
    "## then we can put a COLON [:] to indicate, \"Hey stop at INDEX ...\", and then state what index you want to STOP at [START:STOP] ]:\n",
    "print(selfish[1])\n",
    "\n",
    "#\n",
    "print(selfish[1:])\n",
    "\n",
    "print(selfish[1:5])\n",
    "\n",
    "# We can also include a thrid factor known as STEPOVER -> [START:STOP:STEPOVER].\n",
    "# A STEPOVER will indicate the amount of step overs/ jumps you want, the default is a jump of one, but you can chanhge it:\n",
    "print(selfish[1:6:2])"
   ]
  },
  {
   "cell_type": "code",
   "execution_count": 24,
   "metadata": {},
   "outputs": [
    {
     "name": "stdout",
     "output_type": "stream",
     "text": [
      "2345678\n",
      "12345678\n",
      "12345\n",
      "8\n"
     ]
    }
   ],
   "source": [
    "#anything that should be beforew or after the colons and is in fact NOT there will go to its defualt.\n",
    "#so in this case below, we are startiung from index 1, stopping at nothing, so it will go on till the very last index and the stepover will again by dewfault be 1.\n",
    "print(selfish[1:])\n",
    "print(selfish[::1]) # From default index 0, end at default last index and do jumps of 1.\n",
    "print(selfish[:5]) # From default index 0,  the first index, go to index 5.\n",
    "print(selfish[-1]) # In Python the negativew index means start at the end/last index and go backwards by however many is stated which in this case is 1. \n"
   ]
  },
  {
   "cell_type": "code",
   "execution_count": 25,
   "metadata": {},
   "outputs": [
    {
     "name": "stdout",
     "output_type": "stream",
     "text": [
      "87654321\n"
     ]
    }
   ],
   "source": [
    "#if we do:\n",
    "\n",
    "print(selfish[::-1])\n",
    "#what we have basically said here is start from the back and go down in 1"
   ]
  },
  {
   "cell_type": "code",
   "execution_count": 27,
   "metadata": {},
   "outputs": [
    {
     "name": "stdout",
     "output_type": "stream",
     "text": [
      "8642\n"
     ]
    }
   ],
   "source": [
    "print(selfish[::-2])"
   ]
  },
  {
   "cell_type": "code",
   "execution_count": null,
   "metadata": {},
   "outputs": [],
   "source": []
  }
 ],
 "metadata": {
  "kernelspec": {
   "display_name": "Python 3",
   "language": "python",
   "name": "python3"
  },
  "language_info": {
   "codemirror_mode": {
    "name": "ipython",
    "version": 3
   },
   "file_extension": ".py",
   "mimetype": "text/x-python",
   "name": "python",
   "nbconvert_exporter": "python",
   "pygments_lexer": "ipython3",
   "version": "3.7.4"
  }
 },
 "nbformat": 4,
 "nbformat_minor": 2
}
