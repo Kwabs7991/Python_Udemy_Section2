{
 "cells": [
  {
   "cell_type": "code",
   "execution_count": 2,
   "metadata": {},
   "outputs": [
    {
     "name": "stdout",
     "output_type": "stream",
     "text": [
      "['sunglasses']\n",
      "['sunglasses', 'grapes']\n"
     ]
    }
   ],
   "source": [
    "#List slicing:\n",
    "#List are muitable so they can in fact be changed, unlike string which is immutable.\n",
    "amazon_cart = ['notebooks', \n",
    "               'sunglasses', \n",
    "               'books',\n",
    "              'grapes',\n",
    "              'PS5']\n",
    "\n",
    "print(amazon_cart[1:2:])\n",
    "print(amazon_cart[1::2])"
   ]
  },
  {
   "cell_type": "code",
   "execution_count": 4,
   "metadata": {},
   "outputs": [
    {
     "name": "stdout",
     "output_type": "stream",
     "text": [
      "['laptops', 'sunglasses', 'books']\n",
      "['laptops', 'sunglasses', 'books', 'grapes', 'PS5']\n"
     ]
    }
   ],
   "source": [
    "amazon_cart[0] = 'laptops'\n",
    "\n",
    "print(amazon_cart[0:3])\n",
    "print(amazon_cart) # this list did not change but rather we made a new copy of the amazon_cart list but with a new object inside it."
   ]
  },
  {
   "cell_type": "code",
   "execution_count": 9,
   "metadata": {},
   "outputs": [
    {
     "name": "stdout",
     "output_type": "stream",
     "text": [
      "['sunglasses', 'books']\n",
      "['Lemons', 'books']\n"
     ]
    }
   ],
   "source": [
    "new_cart = amazon_cart[1:3]\n",
    "print(new_cart)\n",
    "new_cart[0] = 'Lemons' #NOTE doing this does not add, but rather swaps out the object in the index for another\n",
    "print(new_cart)"
   ]
  },
  {
   "cell_type": "code",
   "execution_count": 16,
   "metadata": {},
   "outputs": [
    {
     "name": "stdout",
     "output_type": "stream",
     "text": [
      "Not copying a list but rather, use of assignemnt thorugh equals sign and use of memory:\n",
      "['gum', 'sunglasses', 'books', 'grapes', 'PS5']\n",
      "['gum', 'sunglasses', 'books', 'grapes', 'PS5']\n",
      "\n",
      "\n",
      "\n",
      "Copying of likst through list slicing:\n",
      "['gum', 'sunglasses', 'books', 'grapes', 'PS5']\n",
      "['kethcup', 'sunglasses', 'books', 'grapes', 'PS5']\n"
     ]
    }
   ],
   "source": [
    "##Why is it in the assignemnt of amazon_cart to new_cart 2, did the changing of index 0, modify both lists?\n",
    "\n",
    "\n",
    "####ANSWER::\n",
    "\n",
    "# This happened because, the way we have used the equals sign, instructs the new_cart2 to be equal to amazon_cart list.\n",
    "# This means instead of saying make a copy of the amazon_cart list, we instead say the value of new_cart2 is whatever is found in memory holding the amazon_cart list.\n",
    "# So now, when we modify new_cart2, we are actually changing the original amazon_cart list found in memory.\n",
    "# So if we change the first index in new_cart2 then we end up changing the first index in the amazon_list.\n",
    "\n",
    "#But if we look at thew second set of code with new_cart3, we have indeed made a copy of amazon_cart as we have used the colon.\n",
    "#The colon, perfomrs list slicing, whcih tells python that we want to create a copy of whatever list we are referencing to, which in this case is a copy of amazon_cart for new_cart3.\n",
    "\n",
    "print('Not copying a list but rather, use of assignemnt thorugh equals sign and use of memory:')\n",
    "amazon_cart[0] = 'Sauce'\n",
    "new_cart2 = amazon_cart\n",
    "new_cart2[0] = 'gum'\n",
    "print(new_cart2)\n",
    "print(amazon_cart)\n",
    "\n",
    "print('\\n\\n')\n",
    "\n",
    "print('Copying of likst through list slicing:')\n",
    "print(amazon_cart)\n",
    "amazon_cart[0] = 'Sauce'\n",
    "new_cart3 = amazon_cart[:]\n",
    "new_cart3[0] = 'kethcup'\n",
    "print(new_cart3)"
   ]
  },
  {
   "cell_type": "code",
   "execution_count": null,
   "metadata": {},
   "outputs": [],
   "source": []
  }
 ],
 "metadata": {
  "kernelspec": {
   "display_name": "Python 3",
   "language": "python",
   "name": "python3"
  },
  "language_info": {
   "codemirror_mode": {
    "name": "ipython",
    "version": 3
   },
   "file_extension": ".py",
   "mimetype": "text/x-python",
   "name": "python",
   "nbconvert_exporter": "python",
   "pygments_lexer": "ipython3",
   "version": "3.7.4"
  }
 },
 "nbformat": 4,
 "nbformat_minor": 2
}
