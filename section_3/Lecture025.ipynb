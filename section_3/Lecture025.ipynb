{
 "cells": [
  {
   "cell_type": "code",
   "execution_count": 1,
   "metadata": {},
   "outputs": [
    {
     "name": "stdout",
     "output_type": "stream",
     "text": [
      "190\n"
     ]
    }
   ],
   "source": [
    "#Variables:\n",
    "\n",
    "#Assigning a value is also known as binding.\n",
    "\n",
    "#Varibles use snake_case: this means it starts with lowercase or underscore.\n",
    "#Furthermore, it can have Letters, Numbers and underscores.\n",
    "# It remains case sensitive. \n",
    "#Also, Dont overwrite keywords, as keywords already have a meaning.\n",
    "\n",
    "iq = 190\n",
    "print(iq)\n",
    "\n"
   ]
  },
  {
   "cell_type": "code",
   "execution_count": 2,
   "metadata": {},
   "outputs": [
    {
     "name": "stdout",
     "output_type": "stream",
     "text": [
      "900\n"
     ]
    }
   ],
   "source": [
    "token_prize = 900\n",
    "print(token_prize)"
   ]
  },
  {
   "cell_type": "code",
   "execution_count": 10,
   "metadata": {},
   "outputs": [
    {
     "name": "stdout",
     "output_type": "stream",
     "text": [
      "19.565217391304348\n",
      "19\n",
      "20\n"
     ]
    }
   ],
   "source": [
    "team_prize = token_prize/46\n",
    "print(team_prize)\n",
    "print(int(team_prize))\n",
    "print(round(team_prize))"
   ]
  },
  {
   "cell_type": "code",
   "execution_count": null,
   "metadata": {},
   "outputs": [],
   "source": []
  }
 ],
 "metadata": {
  "kernelspec": {
   "display_name": "Python 3",
   "language": "python",
   "name": "python3"
  },
  "language_info": {
   "codemirror_mode": {
    "name": "ipython",
    "version": 3
   },
   "file_extension": ".py",
   "mimetype": "text/x-python",
   "name": "python",
   "nbconvert_exporter": "python",
   "pygments_lexer": "ipython3",
   "version": "3.7.4"
  }
 },
 "nbformat": 4,
 "nbformat_minor": 2
}
