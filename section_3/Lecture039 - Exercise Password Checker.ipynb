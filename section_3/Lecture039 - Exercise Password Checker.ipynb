{
 "cells": [
  {
   "cell_type": "code",
   "execution_count": 2,
   "metadata": {},
   "outputs": [
    {
     "name": "stdout",
     "output_type": "stream",
     "text": [
      "**********\n",
      "~~~~\n",
      "Hi Hi Hi Hi Hi Hi Hi \n"
     ]
    }
   ],
   "source": [
    "#uiswsrname\n",
    "#password\n",
    "\n",
    "#print 'Hey {username}, your {password} (this should be converted into asterixs) and {password length}\n",
    "\n",
    "#Hint:\n",
    "\n",
    "print('*' * 10) # This will print the asterix out 10 times\n",
    "print('~' * 4) # This will print the asterix out 4 times\n",
    "print('Hi ' * 7) # This will print the asterix out 10 times\n",
    "#-----------------------------------------------------------------------------------------------------------"
   ]
  },
  {
   "cell_type": "code",
   "execution_count": 9,
   "metadata": {},
   "outputs": [
    {
     "name": "stdout",
     "output_type": "stream",
     "text": [
      "What is your username: mm23\n",
      "What is your password: shgshg\n",
      "\n",
      "\n",
      "Hey MM23, you seem to have forgotten your password.\n",
      "Your password ************ is 6 letters long\n"
     ]
    }
   ],
   "source": [
    "username = input('What is your username: ')\n",
    "password = input('What is your password: ')\n",
    "pass_length = len(password)\n",
    "pass_protect = '**' * len(password)\n",
    "\n",
    "print(f'\\n\\nHey {username.upper()}, you seem to have forgotten your password.\\nYour password {pass_protect} is {pass_length} letters long')"
   ]
  },
  {
   "cell_type": "code",
   "execution_count": null,
   "metadata": {},
   "outputs": [],
   "source": []
  }
 ],
 "metadata": {
  "kernelspec": {
   "display_name": "Python 3",
   "language": "python",
   "name": "python3"
  },
  "language_info": {
   "codemirror_mode": {
    "name": "ipython",
    "version": 3
   },
   "file_extension": ".py",
   "mimetype": "text/x-python",
   "name": "python",
   "nbconvert_exporter": "python",
   "pygments_lexer": "ipython3",
   "version": "3.7.4"
  }
 },
 "nbformat": 4,
 "nbformat_minor": 2
}
