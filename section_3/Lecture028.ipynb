{
 "cells": [
  {
   "cell_type": "code",
   "execution_count": 1,
   "metadata": {},
   "outputs": [
    {
     "name": "stdout",
     "output_type": "stream",
     "text": [
      "<class 'str'>\n"
     ]
    }
   ],
   "source": [
    "#String (str):\n",
    "\n",
    "#A string is simply a piece of text. these can be amade with single or double quotation marks.\n",
    "\n",
    "print(type(\"Hellooooo Boi\"))"
   ]
  },
  {
   "cell_type": "code",
   "execution_count": 3,
   "metadata": {},
   "outputs": [
    {
     "name": "stdout",
     "output_type": "stream",
     "text": [
      "\n",
      "HIIIIIIIIIIIIIII\n",
      "YOU LOOKMKCGAHSVDKHFG\n",
      "FSADYFGAIULREGFKVCMIVNIdnwm\n",
      "vjcsnfiuewghfoisfcj\n",
      "\n"
     ]
    }
   ],
   "source": [
    "username = 'Supercoder'\n",
    "password = \" Supersecret\"\n",
    "\n",
    "\n",
    "#We can use three single quotes for long text ('''...long text... ''')\n",
    "long_string = '''\n",
    "HIIIIIIIIIIIIIII\n",
    "YOU LOOKMKCGAHSVDKHFG\n",
    "FSADYFGAIULREGFKVCMIVNIdnwm\n",
    "vjcsnfiuewghfoisfcj\n",
    "'''\n",
    "\n",
    "print(long_string)"
   ]
  },
  {
   "cell_type": "code",
   "execution_count": 4,
   "metadata": {},
   "outputs": [
    {
     "name": "stdout",
     "output_type": "stream",
     "text": [
      "Mike Tabi\n"
     ]
    }
   ],
   "source": [
    "first_name = 'Mike'\n",
    "last_name = ' Tabi' # a space would need to be added so there is a space between the name\n",
    "\n",
    "full_name = first_name + last_name\n",
    "print(full_name)"
   ]
  },
  {
   "cell_type": "code",
   "execution_count": null,
   "metadata": {},
   "outputs": [],
   "source": []
  }
 ],
 "metadata": {
  "kernelspec": {
   "display_name": "Python 3",
   "language": "python",
   "name": "python3"
  },
  "language_info": {
   "codemirror_mode": {
    "name": "ipython",
    "version": 3
   },
   "file_extension": ".py",
   "mimetype": "text/x-python",
   "name": "python",
   "nbconvert_exporter": "python",
   "pygments_lexer": "ipython3",
   "version": "3.7.4"
  }
 },
 "nbformat": 4,
 "nbformat_minor": 2
}
