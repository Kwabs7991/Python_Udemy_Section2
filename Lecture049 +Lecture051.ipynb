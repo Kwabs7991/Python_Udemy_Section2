{
 "cells": [
  {
   "cell_type": "code",
   "execution_count": 1,
   "metadata": {},
   "outputs": [
    {
     "name": "stdout",
     "output_type": "stream",
     "text": [
      "2\n"
     ]
    }
   ],
   "source": [
    "#DICTIONARIES: IS AN UNORDERED KEY-VALUE PAIR\n",
    "\n",
    "#A dictionary has keys and values, also known as a key value pair.\n",
    "#Keys are strings that grabs the value, though it should be noted that keys can be anything IMMUTABLE, so anything that cannot be changed (a list can be changed and modified so a list cannot be a key)\n",
    "#Essentially a key has to be UNIQUE and something that can only exist once.\n",
    "#Valkues can be abythiunbg we want; lists,string, numbers, etc.\n",
    "\n",
    "dictionary = {\n",
    "    \n",
    "    'a' : [1,2,3 ],\n",
    "    'b' : 'hello',\n",
    "    'x' :True\n",
    "}\n",
    "\n",
    "\n",
    "print(dictionary['a'])\n",
    "print(dictionary['a'][1])"
   ]
  },
  {
   "cell_type": "code",
   "execution_count": 2,
   "metadata": {},
   "outputs": [
    {
     "name": "stdout",
     "output_type": "stream",
     "text": [
      "[{'a': [4, 6, 9], 'b': 'hello', 'x': True}]\n"
     ]
    }
   ],
   "source": [
    "my_list = [ # We can have dictionaries in lists and these lists can have dictionaries or lists,etc\n",
    "    {\n",
    "        'a': [4,6,9],\n",
    "        'b':'hello',\n",
    "        'x':True\n",
    "    },\n",
    "    \n",
    "    {\n",
    "        'a': [4,6,9],\n",
    "        'b':'hello',\n",
    "        'x':True\n",
    "    }\n",
    "]\n",
    "\n",
    "print(my_list)"
   ]
  },
  {
   "cell_type": "code",
   "execution_count": 14,
   "metadata": {},
   "outputs": [
    {
     "name": "stdout",
     "output_type": "stream",
     "text": [
      "4\n"
     ]
    }
   ],
   "source": [
    "print(my_list[0]['a'][0])"
   ]
  },
  {
   "cell_type": "code",
   "execution_count": null,
   "metadata": {},
   "outputs": [],
   "source": []
  }
 ],
 "metadata": {
  "kernelspec": {
   "display_name": "Python 3",
   "language": "python",
   "name": "python3"
  },
  "language_info": {
   "codemirror_mode": {
    "name": "ipython",
    "version": 3
   },
   "file_extension": ".py",
   "mimetype": "text/x-python",
   "name": "python",
   "nbconvert_exporter": "python",
   "pygments_lexer": "ipython3",
   "version": "3.7.4"
  }
 },
 "nbformat": 4,
 "nbformat_minor": 2
}
