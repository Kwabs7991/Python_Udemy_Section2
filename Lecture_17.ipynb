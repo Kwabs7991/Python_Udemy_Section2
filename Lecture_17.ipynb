{
 "cells": [
  {
   "cell_type": "code",
   "execution_count": null,
   "metadata": {},
   "outputs": [],
   "source": [
    "#Fundamental Data Types:\n",
    "\n",
    "int\n",
    "float\n",
    "bool\n",
    "str\n",
    "list\n",
    "tuple\n",
    "dict\n",
    "set\n",
    "\n",
    "\n",
    "#Classes -> custom types\n",
    "\n",
    "\n",
    "#Specialised Data Types\n",
    "\n",
    "\n",
    "None"
   ]
  }
 ],
 "metadata": {
  "kernelspec": {
   "display_name": "Python 3",
   "language": "python",
   "name": "python3"
  },
  "language_info": {
   "codemirror_mode": {
    "name": "ipython",
    "version": 3
   },
   "file_extension": ".py",
   "mimetype": "text/x-python",
   "name": "python",
   "nbconvert_exporter": "python",
   "pygments_lexer": "ipython3",
   "version": "3.7.4"
  }
 },
 "nbformat": 4,
 "nbformat_minor": 2
}
