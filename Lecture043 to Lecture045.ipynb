{
 "cells": [
  {
   "cell_type": "code",
   "execution_count": 4,
   "metadata": {},
   "outputs": [
    {
     "name": "stdout",
     "output_type": "stream",
     "text": [
      "[1, 2, 3, 4, 5, 101]\n",
      "[1, 2, 3, 4, 5, 101]\n"
     ]
    }
   ],
   "source": [
    "#List Methods::\n",
    "\n",
    "## ***I will use the term item and object interchangebly***\n",
    "\n",
    "basket = [1,2,3,4,5]\n",
    "\n",
    "#ADDING and item to the list: .append(object)\n",
    "basket.append(101)\n",
    "new_list1 = basket\n",
    "print(basket)\n",
    "print(new_list1)"
   ]
  },
  {
   "cell_type": "code",
   "execution_count": 5,
   "metadata": {},
   "outputs": [
    {
     "name": "stdout",
     "output_type": "stream",
     "text": [
      "[1, 1023, 2, 3, 4, 5, 101]\n"
     ]
    }
   ],
   "source": [
    "#INSERT an item within the list: .insert(index, object)\n",
    "basket.insert(1, 1023)\n",
    "print(new_list1)"
   ]
  },
  {
   "cell_type": "code",
   "execution_count": 6,
   "metadata": {},
   "outputs": [
    {
     "name": "stdout",
     "output_type": "stream",
     "text": [
      "[1, 1023, 2, 3, 4, 5]\n",
      "[1023, 2, 3, 4, 5]\n"
     ]
    }
   ],
   "source": [
    "#POPPING an item from the list: .pop(index)\n",
    "\n",
    "basket.pop()\n",
    "print(new_list1) # We can see the last the item in the last index gets removed, \n",
    "                 # without specifying the index, the last index will be removed by default.\n",
    "basket.pop(0)\n",
    "print(basket)"
   ]
  },
  {
   "cell_type": "code",
   "execution_count": 7,
   "metadata": {},
   "outputs": [
    {
     "name": "stdout",
     "output_type": "stream",
     "text": [
      "[1023, 2, 3, 5]\n"
     ]
    }
   ],
   "source": [
    "#REMOVING an item from the list: .remove(object)\n",
    "\n",
    "##Instead of putting the index within the brackets of the method we instead, enter the value/object/item we want taken out.\n",
    "\n",
    "basket.remove(4)\n",
    "print(basket)"
   ]
  },
  {
   "cell_type": "code",
   "execution_count": 8,
   "metadata": {},
   "outputs": [
    {
     "name": "stdout",
     "output_type": "stream",
     "text": [
      "[]\n"
     ]
    }
   ],
   "source": [
    "#CLEARING the list completely: .clear()\n",
    "\n",
    "basket.clear()\n",
    "print(basket)"
   ]
  },
  {
   "cell_type": "code",
   "execution_count": 9,
   "metadata": {},
   "outputs": [
    {
     "data": {
      "text/plain": [
       "0"
      ]
     },
     "execution_count": 9,
     "metadata": {},
     "output_type": "execute_result"
    }
   ],
   "source": [
    "#using the INDEX methods to find a value at a partcular index: index(object/value, start, stop)\n",
    "\n",
    "new_basket = [1,2,3,4,5]\n",
    "new_basket.index(1)"
   ]
  },
  {
   "cell_type": "code",
   "execution_count": 10,
   "metadata": {},
   "outputs": [
    {
     "ename": "ValueError",
     "evalue": "'b' is not in list",
     "output_type": "error",
     "traceback": [
      "\u001b[1;31m---------------------------------------------------------------------------\u001b[0m",
      "\u001b[1;31mValueError\u001b[0m                                Traceback (most recent call last)",
      "\u001b[1;32m<ipython-input-10-538c2b5d647f>\u001b[0m in \u001b[0;36m<module>\u001b[1;34m\u001b[0m\n\u001b[0;32m      1\u001b[0m \u001b[0mnew_basket2\u001b[0m \u001b[1;33m=\u001b[0m \u001b[1;33m[\u001b[0m\u001b[1;34m'a'\u001b[0m\u001b[1;33m,\u001b[0m\u001b[1;34m'b'\u001b[0m\u001b[1;33m,\u001b[0m\u001b[1;34m'd'\u001b[0m\u001b[1;33m,\u001b[0m\u001b[1;34m'a'\u001b[0m\u001b[1;33m,\u001b[0m\u001b[1;34m't'\u001b[0m\u001b[1;33m,\u001b[0m\u001b[1;34m't'\u001b[0m\u001b[1;33m,\u001b[0m\u001b[1;34m'ui'\u001b[0m\u001b[1;33m]\u001b[0m\u001b[1;33m\u001b[0m\u001b[1;33m\u001b[0m\u001b[0m\n\u001b[1;32m----> 2\u001b[1;33m \u001b[0mnew_basket2\u001b[0m\u001b[1;33m.\u001b[0m\u001b[0mindex\u001b[0m\u001b[1;33m(\u001b[0m\u001b[1;34m'b'\u001b[0m\u001b[1;33m,\u001b[0m\u001b[1;36m2\u001b[0m\u001b[1;33m,\u001b[0m\u001b[1;36m5\u001b[0m\u001b[1;33m)\u001b[0m \u001b[1;31m#Looking for 'b' between index 2 and 5. It should say b is not found.\u001b[0m\u001b[1;33m\u001b[0m\u001b[1;33m\u001b[0m\u001b[0m\n\u001b[0m",
      "\u001b[1;31mValueError\u001b[0m: 'b' is not in list"
     ]
    }
   ],
   "source": [
    "new_basket2 = ['a','b','d','a','t','t','ui']\n",
    "new_basket2.index('b',2,5) #Looking for 'b' between index 2 and 5. It should say b is not found."
   ]
  },
  {
   "cell_type": "code",
   "execution_count": 11,
   "metadata": {},
   "outputs": [
    {
     "name": "stdout",
     "output_type": "stream",
     "text": [
      "False\n",
      "True\n"
     ]
    }
   ],
   "source": [
    "print('x' in new_basket2)\n",
    "print('ui' in new_basket2)"
   ]
  },
  {
   "cell_type": "code",
   "execution_count": 12,
   "metadata": {},
   "outputs": [
    {
     "name": "stdout",
     "output_type": "stream",
     "text": [
      "2\n",
      "2\n",
      "0\n",
      "1\n"
     ]
    }
   ],
   "source": [
    "#COUNT method counts how many times a value appears in a list: .count()\n",
    "print(new_basket2.count('t'))\n",
    "print(new_basket2.count('a'))\n",
    "print(new_basket2.count('z'))\n",
    "print(new_basket2.count('ui'))"
   ]
  },
  {
   "cell_type": "code",
   "execution_count": 20,
   "metadata": {},
   "outputs": [
    {
     "name": "stdout",
     "output_type": "stream",
     "text": [
      "['a', 'a', 'b', 'd', 't', 't', 'ui']\n"
     ]
    }
   ],
   "source": [
    "# printing this, will result in none, reason being: it doesnt actually produce any output to print out, it just literally sorts the list.\n",
    "new_basket2.sort()\n",
    "print(new_basket2)"
   ]
  },
  {
   "cell_type": "code",
   "execution_count": 22,
   "metadata": {},
   "outputs": [
    {
     "name": "stdout",
     "output_type": "stream",
     "text": [
      "['a', 'a', 'b', 'd', 't', 't', 'ui']\n"
     ]
    }
   ],
   "source": [
    "print(sorted(new_basket2)) # Sorted doesnt modify the list and make a copy, no, instead itmakes a new copy of the basket and sorts it.\n",
    "                           #Essentially it wont really be sorting the list in the original memory of new_basket2, but rather a new temporary one for sorted(new_basket2)"
   ]
  },
  {
   "cell_type": "code",
   "execution_count": 24,
   "metadata": {},
   "outputs": [
    {
     "name": "stdout",
     "output_type": "stream",
     "text": [
      "[1, 2, 3, 4, 5]\n"
     ]
    }
   ],
   "source": [
    "print(new_basket.copy())"
   ]
  },
  {
   "cell_type": "code",
   "execution_count": 27,
   "metadata": {},
   "outputs": [
    {
     "name": "stdout",
     "output_type": "stream",
     "text": [
      "[5, 4, 3, 2, 1]\n"
     ]
    }
   ],
   "source": [
    "new_basket.reverse()\n",
    "print(new_basket)"
   ]
  },
  {
   "cell_type": "code",
   "execution_count": 29,
   "metadata": {},
   "outputs": [
    {
     "name": "stdout",
     "output_type": "stream",
     "text": [
      "[1, 2, 3, 4, 5]\n",
      "[5, 4, 3, 2, 1]\n"
     ]
    }
   ],
   "source": [
    "new_basket.sort()\n",
    "print(new_basket)\n",
    "new_basket.reverse()\n",
    "print(new_basket)"
   ]
  },
  {
   "cell_type": "code",
   "execution_count": null,
   "metadata": {},
   "outputs": [],
   "source": []
  }
 ],
 "metadata": {
  "kernelspec": {
   "display_name": "Python 3",
   "language": "python",
   "name": "python3"
  },
  "language_info": {
   "codemirror_mode": {
    "name": "ipython",
    "version": 3
   },
   "file_extension": ".py",
   "mimetype": "text/x-python",
   "name": "python",
   "nbconvert_exporter": "python",
   "pygments_lexer": "ipython3",
   "version": "3.7.4"
  }
 },
 "nbformat": 4,
 "nbformat_minor": 2
}
