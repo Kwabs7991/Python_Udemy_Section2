{
 "cells": [
  {
   "cell_type": "code",
   "execution_count": 1,
   "metadata": {},
   "outputs": [
    {
     "name": "stdout",
     "output_type": "stream",
     "text": [
      "['notebooks', 'sunglasses', 'books']\n"
     ]
    }
   ],
   "source": [
    "#Lists:\n",
    "\n",
    "#WE DENOTE LISTS WITH SQUARE BRACKETS. \n",
    "#THE BRACKETS WITHIN THEM CAN HAVE ANY TYPE OF OBJECTS WIHTIN THEM.\n",
    "\n",
    "#Lists are a data structure\n",
    "\n",
    "\n",
    "amazon_cart = ['notebooks', 'sunglasses', 'books']\n",
    "\n",
    "print(amazon_cart[0::])"
   ]
  },
  {
   "cell_type": "code",
   "execution_count": null,
   "metadata": {},
   "outputs": [],
   "source": []
  }
 ],
 "metadata": {
  "kernelspec": {
   "display_name": "Python 3",
   "language": "python",
   "name": "python3"
  },
  "language_info": {
   "codemirror_mode": {
    "name": "ipython",
    "version": 3
   },
   "file_extension": ".py",
   "mimetype": "text/x-python",
   "name": "python",
   "nbconvert_exporter": "python",
   "pygments_lexer": "ipython3",
   "version": "3.7.4"
  }
 },
 "nbformat": 4,
 "nbformat_minor": 2
}
