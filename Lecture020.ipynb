{
 "cells": [
  {
   "cell_type": "code",
   "execution_count": 1,
   "metadata": {},
   "outputs": [
    {
     "name": "stdout",
     "output_type": "stream",
     "text": [
      "6\n",
      "-2\n",
      "8\n",
      "0.5\n",
      "<class 'int'>\n",
      "<class 'int'>\n",
      "<class 'int'>\n",
      "<class 'float'>\n",
      "9\n",
      "1\n",
      "1\n"
     ]
    }
   ],
   "source": [
    "#Fundamental Data Types:\n",
    "#int and float\n",
    "\n",
    "# An int means integer like 2,3, 220.\n",
    "\n",
    "print(2+4)\n",
    "print(2-4)\n",
    "print(2*4)\n",
    "print(2/4)\n",
    "\n",
    "print(type(2+4))\n",
    "print(type(2-4))\n",
    "print(type(2*4))\n",
    "print(type(2/4))\n",
    "\n",
    "print(3**2)\n",
    "print(3//2)\n",
    "print(7%2)\n"
   ]
  },
  {
   "cell_type": "code",
   "execution_count": 3,
   "metadata": {},
   "outputs": [
    {
     "name": "stdout",
     "output_type": "stream",
     "text": [
      "9\n",
      "3\n"
     ]
    }
   ],
   "source": [
    "print(round(8.7789))\n",
    "print(round(3.1))"
   ]
  },
  {
   "cell_type": "code",
   "execution_count": 5,
   "metadata": {},
   "outputs": [
    {
     "name": "stdout",
     "output_type": "stream",
     "text": [
      "200\n"
     ]
    }
   ],
   "source": [
    "print(abs(-200))  #abs returns the absolute value of the argument, essentially no negative numbers"
   ]
  },
  {
   "cell_type": "code",
   "execution_count": 6,
   "metadata": {},
   "outputs": [
    {
     "name": "stdout",
     "output_type": "stream",
     "text": [
      "2200\n",
      "0\n",
      "43\n"
     ]
    }
   ],
   "source": [
    "print(abs(-2200))\n",
    "print(abs(0))\n",
    "print(abs(43))"
   ]
  },
  {
   "cell_type": "code",
   "execution_count": null,
   "metadata": {},
   "outputs": [],
   "source": []
  }
 ],
 "metadata": {
  "kernelspec": {
   "display_name": "Python 3",
   "language": "python",
   "name": "python3"
  },
  "language_info": {
   "codemirror_mode": {
    "name": "ipython",
    "version": 3
   },
   "file_extension": ".py",
   "mimetype": "text/x-python",
   "name": "python",
   "nbconvert_exporter": "python",
   "pygments_lexer": "ipython3",
   "version": "3.7.4"
  }
 },
 "nbformat": 4,
 "nbformat_minor": 2
}
