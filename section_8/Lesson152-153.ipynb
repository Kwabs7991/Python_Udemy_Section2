{
 "cells": [
  {
   "cell_type": "code",
   "execution_count": 9,
   "metadata": {},
   "outputs": [
    {
     "name": "stdout",
     "output_type": "stream",
     "text": [
      "******\n",
      "helloooo :D\n",
      "******\n",
      "See ya later\n",
      "alligator!\n"
     ]
    }
   ],
   "source": [
    "#Decorators (Also known as decorator pattern):-\n",
    "\n",
    "def my_decorator(func):\n",
    "    def wrap_func(*args, **kwargs):\n",
    "        print('******')\n",
    "        func(*args, **kwargs)\n",
    "        print('******')\n",
    "    return wrap_func\n",
    "\n",
    "def my_decorator_2(func):\n",
    "    def wrap_func(*args, **kwargs):\n",
    "        func(*args, **kwargs)\n",
    "        print('alligator!')\n",
    "    return wrap_func\n",
    "\n",
    "@my_decorator\n",
    "def hello(greeting, emoji=':D'):\n",
    "    print(greeting, emoji)\n",
    "\n",
    "@my_decorator_2\n",
    "def bye():\n",
    "    print('See ya later')\n",
    "    \n",
    "hello('helloooo')\n",
    "bye()"
   ]
  },
  {
   "cell_type": "code",
   "execution_count": 12,
   "metadata": {},
   "outputs": [
    {
     "name": "stdout",
     "output_type": "stream",
     "text": [
      "Time taken was 0.17068791389465332 secs.\n"
     ]
    }
   ],
   "source": [
    "# Decorator being made to rest how long a fucntion will fun for, performance speed basically.\n",
    "\n",
    "from time import time\n",
    "\n",
    "def performance(fn):\n",
    "    def wrapper(*args, **kwargs):\n",
    "        t1 = time()\n",
    "        result = fn(*args, **kwargs)\n",
    "        t2 = time()\n",
    "        print(f\"Time taken was {t2-t1} secs.\")\n",
    "        return result\n",
    "    return wrapper \n",
    "\n",
    "@performance # this can be given to any function in the file/class it is located in to test the time performance it runs for.\n",
    "def long_time():\n",
    "    for i in range(1000000):\n",
    "        i * 5\n",
    "        \n",
    "        \n",
    "long_time()"
   ]
  },
  {
   "cell_type": "code",
   "execution_count": 17,
   "metadata": {},
   "outputs": [
    {
     "name": "stdout",
     "output_type": "stream",
     "text": [
      "User checked: message has been sent\n",
      "\n",
      "User checked: Invalid User Access\n"
     ]
    }
   ],
   "source": [
    "# Create an @authenticated decorator that only allows the function to run is user1 has 'valid' set to True:\n",
    "user1 = {\n",
    "    'name': 'Sorna',\n",
    "    'valid': True #changing this will either run or not run the message_friends function.\n",
    "}\n",
    "\n",
    "user2 = {\n",
    "    'name': 'Sayyah',\n",
    "    'valid': False #changing this will either run or not run the message_friends function.\n",
    "}\n",
    "\n",
    "def authenticated(fn):\n",
    "    def wrap(*args, **kwargs):\n",
    "        if args[0]['valid'] == True:\n",
    "            sending = fn(*args, **kwargs)\n",
    "            return sending\n",
    "        else:\n",
    "            print(\"User checked: Invalid User Access\")\n",
    "    return wrap\n",
    "\n",
    "\n",
    "@authenticated\n",
    "def message_friends(user):\n",
    "  # print(user)\n",
    "  print('User checked: message has been sent\\n')\n",
    "\n",
    "    \n",
    "message_friends(user1)\n",
    "message_friends(user2)"
   ]
  },
  {
   "cell_type": "code",
   "execution_count": null,
   "metadata": {},
   "outputs": [],
   "source": []
  }
 ],
 "metadata": {
  "kernelspec": {
   "display_name": "Python 3",
   "language": "python",
   "name": "python3"
  },
  "language_info": {
   "codemirror_mode": {
    "name": "ipython",
    "version": 3
   },
   "file_extension": ".py",
   "mimetype": "text/x-python",
   "name": "python",
   "nbconvert_exporter": "python",
   "pygments_lexer": "ipython3",
   "version": "3.7.4"
  }
 },
 "nbformat": 4,
 "nbformat_minor": 2
}
