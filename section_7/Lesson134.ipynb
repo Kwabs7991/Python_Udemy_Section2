{
 "cells": [
  {
   "cell_type": "code",
   "execution_count": 3,
   "metadata": {},
   "outputs": [
    {
     "name": "stdout",
     "output_type": "stream",
     "text": [
      "1\n",
      "[<class '__main__.D'>, <class '__main__.B'>, <class '__main__.C'>, <class '__main__.A'>, <class 'object'>]\n"
     ]
    }
   ],
   "source": [
    "#MRO - Method Resolution Order\n",
    "#MRO helps determine when using inheritence, whethers its single or multiple, what order to run it and its methods in\n",
    "\n",
    "# So, D has MULTIPLE INHERITENCE from B and C, and D has (SINGLE) INHERITENCE from A.\n",
    "# As shown below in code and diagram:\n",
    "\n",
    "#     A\n",
    "#  /   \\\n",
    "# /     \\\n",
    "#B       C\n",
    "# \\     /\n",
    "#  \\   /\n",
    "#    D \n",
    "#\n",
    "\n",
    "class A:\n",
    "    num = 10\n",
    "    \n",
    "class B(A):\n",
    "    pass\n",
    "\n",
    "class C(A):\n",
    "    num = 1\n",
    "    \n",
    "class D(B, C):\n",
    "    pass\n",
    "\n",
    "\n",
    "print(D.num)\n",
    "\n",
    "\n",
    "#this shows the MRO of the class D for example: \n",
    "print(D.mro())"
   ]
  },
  {
   "cell_type": "code",
   "execution_count": 4,
   "metadata": {},
   "outputs": [
    {
     "name": "stdout",
     "output_type": "stream",
     "text": [
      "[2, 6, 8, 4, 6, 2]\n"
     ]
    }
   ],
   "source": [
    "def is_even(n):\n",
    "    return n % 2 == 0\n",
    "\n",
    "nums = [3,2,6,8,4,6,2,9]\n",
    "evens = list(filter(is_even, nums))\n",
    "\n",
    "print(evens)"
   ]
  },
  {
   "cell_type": "code",
   "execution_count": 28,
   "metadata": {},
   "outputs": [
    {
     "name": "stdout",
     "output_type": "stream",
     "text": [
      "[2, 4, 6, 8, 10]\n",
      "[1, 3, 5, 7, 9]\n"
     ]
    }
   ],
   "source": [
    "\n",
    "#filter fucntion\n",
    "class Calc:\n",
    "    \n",
    "    def __init__(self, numb):\n",
    "        self.numb = numb\n",
    "\n",
    "    def only_even(self):\n",
    "        return list(filter(lambda n : n%2 == 0, self.numb))\n",
    "    \n",
    "    def only_odd(self):\n",
    "        return list(filter(lambda n : n%2 != 0, self.numb))\n",
    "\n",
    "\n",
    "check1 = Calc([1,2,3,4,5,6,7,8,9,10])    \n",
    "print(check1.only_even())\n",
    "print(check1.only_odd())"
   ]
  },
  {
   "cell_type": "code",
   "execution_count": null,
   "metadata": {},
   "outputs": [],
   "source": [
    "# Zip function:\n",
    "\n",
    "   "
   ]
  }
 ],
 "metadata": {
  "kernelspec": {
   "display_name": "Python 3",
   "language": "python",
   "name": "python3"
  },
  "language_info": {
   "codemirror_mode": {
    "name": "ipython",
    "version": 3
   },
   "file_extension": ".py",
   "mimetype": "text/x-python",
   "name": "python",
   "nbconvert_exporter": "python",
   "pygments_lexer": "ipython3",
   "version": "3.7.4"
  }
 },
 "nbformat": 4,
 "nbformat_minor": 2
}
